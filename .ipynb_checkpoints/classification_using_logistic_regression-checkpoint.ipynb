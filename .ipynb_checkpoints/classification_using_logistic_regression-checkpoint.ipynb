{
 "cells": [
  {
   "cell_type": "code",
   "execution_count": null,
   "metadata": {},
   "outputs": [],
   "source": [
    "import pandas as pd\n",
    "import numpy as np\n",
    "\n",
    "data =  pd.read_csv(\"train.csv\")\n",
    "data.dtypes"
   ]
  },
  {
   "cell_type": "markdown",
   "metadata": {},
   "source": [
    "#### Feature selection\n",
    "Name? Dropped for now\n",
    "\n",
    "Ticket? Dropped for now\n",
    "\n",
    "TODO: Need to have deeper insights to use these features. And also will have to do some text processing."
   ]
  },
  {
   "cell_type": "code",
   "execution_count": null,
   "metadata": {},
   "outputs": [],
   "source": [
    "(x,y) = data.shape\n",
    "data.isna().sum()/x *100"
   ]
  },
  {
   "cell_type": "markdown",
   "metadata": {},
   "source": [
    "Cabin feature is missing values for 77% of dataset. Dropped.\n",
    "\n",
    "Age:\n",
    "    1. Remove rows\n",
    "    2. Impute with mean\n",
    "    3. Impute using advanced methods (K-nn)"
   ]
  },
  {
   "cell_type": "code",
   "execution_count": null,
   "metadata": {},
   "outputs": [],
   "source": [
    "data_t = data.drop(['Name','Ticket','Cabin'],axis=1)\n",
    "data_t.head()"
   ]
  },
  {
   "cell_type": "code",
   "execution_count": null,
   "metadata": {},
   "outputs": [],
   "source": [
    "data_1 = data_t.copy()\n",
    "# Removing missing rows\n",
    "#data_1 = data_1.dropna(subset = ['Age'])\n",
    "\n",
    "#imputing median\n",
    "# print(data_1.Age.median())\n",
    "# data_1.Age = data_1.Age.fillna(data_1.Age.median())\n",
    "\n",
    "#imputing mean\n",
    "# print(data_1.Age.mean())\n",
    "# data_1.Age = data_1.Age.fillna(data_1.Age.mean())\n",
    "\n",
    "#imputing mode\n",
    "print(data_1.Age.mode())\n",
    "data_1.Age = data_1.Age.fillna(data_1.Age.mode())\n"
   ]
  },
  {
   "cell_type": "code",
   "execution_count": null,
   "metadata": {},
   "outputs": [],
   "source": [
    "data_1['Sex']=data_1['Sex'].astype('category')\n",
    "data_1['Sex']=data_1['Sex'].cat.codes\n",
    "\n",
    "data_1['Embarked']=data_1['Embarked'].astype('category')\n",
    "data_1['Embarked']=data_1['Embarked'].cat.codes\n",
    "data_1.columns"
   ]
  },
  {
   "cell_type": "code",
   "execution_count": null,
   "metadata": {},
   "outputs": [],
   "source": [
    "# excluded PassengerId,Name,Ticket,Cabin\n",
    "X=data_1[['Pclass','Sex','Age','SibSp','Parch','Fare','Embarked']]\n",
    "y=data_1['Survived']\n",
    "\n",
    "# split X and y into training and testing sets\n",
    "from sklearn.model_selection import train_test_split\n",
    "X_train,X_test,y_train,y_test=train_test_split(X,y,test_size=0.25,random_state=0)\n",
    "# import the class\n",
    "\n",
    "from sklearn.linear_model import LogisticRegression\n",
    "\n",
    "# instantiate the model (using the default parameters)\n",
    "logreg = LogisticRegression(solver='lbfgs')\n",
    "# fit the model with data\n",
    "logreg.fit(X_train,y_train)\n",
    "\n",
    "y_pred=logreg.predict(X_test)\n",
    "\n",
    "#calculate matrix\n",
    "from sklearn import metrics\n",
    "cnf_matrix = metrics.confusion_matrix(y_test, y_pred)\n",
    "print(cnf_matrix)\n",
    "print(\"Accuracy:\",metrics.accuracy_score(y_test, y_pred))\n",
    "print(\"Precision:\",metrics.precision_score(y_test, y_pred))\n",
    "print(\"Recall:\",metrics.recall_score(y_test, y_pred))"
   ]
  },
  {
   "cell_type": "markdown",
   "metadata": {},
   "source": [
    "### Age missing rows removed\n",
    "[[85 18]\n",
    " [18 58]]\n",
    " \n",
    "Accuracy: 0.7988826815642458\n",
    "Precision: 0.7631578947368421\n",
    "Recall: 0.7631578947368421\n",
    "\n",
    "### Age Imputing mean\n",
    "\n",
    "[[116  23]\n",
    " [ 23  61]]\n",
    " \n",
    "Accuracy: 0.7937219730941704\n",
    "Precision: 0.7261904761904762\n",
    "Recall: 0.7261904761904762"
   ]
  }
 ],
 "metadata": {
  "kernelspec": {
   "display_name": "Python 3",
   "language": "python",
   "name": "python3"
  },
  "language_info": {
   "codemirror_mode": {
    "name": "ipython",
    "version": 3
   },
   "file_extension": ".py",
   "mimetype": "text/x-python",
   "name": "python",
   "nbconvert_exporter": "python",
   "pygments_lexer": "ipython3",
   "version": "3.5.2"
  }
 },
 "nbformat": 4,
 "nbformat_minor": 2
}
