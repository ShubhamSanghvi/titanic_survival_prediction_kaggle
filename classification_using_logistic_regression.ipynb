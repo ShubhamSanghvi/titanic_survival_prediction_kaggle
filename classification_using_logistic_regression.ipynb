{
 "cells": [
  {
   "cell_type": "code",
   "execution_count": 1,
   "metadata": {},
   "outputs": [
    {
     "data": {
      "text/plain": [
       "PassengerId      int64\n",
       "Survived         int64\n",
       "Pclass           int64\n",
       "Name            object\n",
       "Sex             object\n",
       "Age            float64\n",
       "SibSp            int64\n",
       "Parch            int64\n",
       "Ticket          object\n",
       "Fare           float64\n",
       "Cabin           object\n",
       "Embarked        object\n",
       "dtype: object"
      ]
     },
     "execution_count": 1,
     "metadata": {},
     "output_type": "execute_result"
    }
   ],
   "source": [
    "import pandas as pd\n",
    "import numpy as np\n",
    "\n",
    "data =  pd.read_csv(\"train.csv\")\n",
    "data.dtypes"
   ]
  },
  {
   "cell_type": "markdown",
   "metadata": {},
   "source": [
    "#### Feature selection\n",
    "Name? Dropped for now\n",
    "\n",
    "Ticket? Dropped for now\n",
    "\n",
    "TODO: Need to have deeper insights to use these features. And also will have to do some text processing."
   ]
  },
  {
   "cell_type": "code",
   "execution_count": 2,
   "metadata": {},
   "outputs": [
    {
     "data": {
      "text/plain": [
       "PassengerId     0.000000\n",
       "Survived        0.000000\n",
       "Pclass          0.000000\n",
       "Name            0.000000\n",
       "Sex             0.000000\n",
       "Age            19.865320\n",
       "SibSp           0.000000\n",
       "Parch           0.000000\n",
       "Ticket          0.000000\n",
       "Fare            0.000000\n",
       "Cabin          77.104377\n",
       "Embarked        0.224467\n",
       "dtype: float64"
      ]
     },
     "execution_count": 2,
     "metadata": {},
     "output_type": "execute_result"
    }
   ],
   "source": [
    "(x,y) = data.shape\n",
    "data.isna().sum()/x *100"
   ]
  },
  {
   "cell_type": "markdown",
   "metadata": {},
   "source": [
    "Cabin feature is missing values for 77% of dataset. Dropped.\n",
    "\n",
    "Age:\n",
    "    1. Remove rows\n",
    "    2. Impute with mean\n",
    "    3. Impute using advanced methods (K-nn)"
   ]
  },
  {
   "cell_type": "code",
   "execution_count": 3,
   "metadata": {},
   "outputs": [
    {
     "data": {
      "text/html": [
       "<div>\n",
       "<style scoped>\n",
       "    .dataframe tbody tr th:only-of-type {\n",
       "        vertical-align: middle;\n",
       "    }\n",
       "\n",
       "    .dataframe tbody tr th {\n",
       "        vertical-align: top;\n",
       "    }\n",
       "\n",
       "    .dataframe thead th {\n",
       "        text-align: right;\n",
       "    }\n",
       "</style>\n",
       "<table border=\"1\" class=\"dataframe\">\n",
       "  <thead>\n",
       "    <tr style=\"text-align: right;\">\n",
       "      <th></th>\n",
       "      <th>PassengerId</th>\n",
       "      <th>Survived</th>\n",
       "      <th>Pclass</th>\n",
       "      <th>Sex</th>\n",
       "      <th>Age</th>\n",
       "      <th>SibSp</th>\n",
       "      <th>Parch</th>\n",
       "      <th>Fare</th>\n",
       "      <th>Embarked</th>\n",
       "    </tr>\n",
       "  </thead>\n",
       "  <tbody>\n",
       "    <tr>\n",
       "      <th>0</th>\n",
       "      <td>1</td>\n",
       "      <td>0</td>\n",
       "      <td>3</td>\n",
       "      <td>male</td>\n",
       "      <td>22.0</td>\n",
       "      <td>1</td>\n",
       "      <td>0</td>\n",
       "      <td>7.2500</td>\n",
       "      <td>S</td>\n",
       "    </tr>\n",
       "    <tr>\n",
       "      <th>1</th>\n",
       "      <td>2</td>\n",
       "      <td>1</td>\n",
       "      <td>1</td>\n",
       "      <td>female</td>\n",
       "      <td>38.0</td>\n",
       "      <td>1</td>\n",
       "      <td>0</td>\n",
       "      <td>71.2833</td>\n",
       "      <td>C</td>\n",
       "    </tr>\n",
       "    <tr>\n",
       "      <th>2</th>\n",
       "      <td>3</td>\n",
       "      <td>1</td>\n",
       "      <td>3</td>\n",
       "      <td>female</td>\n",
       "      <td>26.0</td>\n",
       "      <td>0</td>\n",
       "      <td>0</td>\n",
       "      <td>7.9250</td>\n",
       "      <td>S</td>\n",
       "    </tr>\n",
       "    <tr>\n",
       "      <th>3</th>\n",
       "      <td>4</td>\n",
       "      <td>1</td>\n",
       "      <td>1</td>\n",
       "      <td>female</td>\n",
       "      <td>35.0</td>\n",
       "      <td>1</td>\n",
       "      <td>0</td>\n",
       "      <td>53.1000</td>\n",
       "      <td>S</td>\n",
       "    </tr>\n",
       "    <tr>\n",
       "      <th>4</th>\n",
       "      <td>5</td>\n",
       "      <td>0</td>\n",
       "      <td>3</td>\n",
       "      <td>male</td>\n",
       "      <td>35.0</td>\n",
       "      <td>0</td>\n",
       "      <td>0</td>\n",
       "      <td>8.0500</td>\n",
       "      <td>S</td>\n",
       "    </tr>\n",
       "  </tbody>\n",
       "</table>\n",
       "</div>"
      ],
      "text/plain": [
       "   PassengerId  Survived  Pclass     Sex   Age  SibSp  Parch     Fare Embarked\n",
       "0            1         0       3    male  22.0      1      0   7.2500        S\n",
       "1            2         1       1  female  38.0      1      0  71.2833        C\n",
       "2            3         1       3  female  26.0      0      0   7.9250        S\n",
       "3            4         1       1  female  35.0      1      0  53.1000        S\n",
       "4            5         0       3    male  35.0      0      0   8.0500        S"
      ]
     },
     "execution_count": 3,
     "metadata": {},
     "output_type": "execute_result"
    }
   ],
   "source": [
    "data_t = data.drop(['Name','Ticket','Cabin'],axis=1)\n",
    "data_t.head()"
   ]
  },
  {
   "cell_type": "code",
   "execution_count": 4,
   "metadata": {},
   "outputs": [
    {
     "name": "stdout",
     "output_type": "stream",
     "text": [
      "24.0\n"
     ]
    }
   ],
   "source": [
    "data_1 = data_t.copy()\n",
    "# Removing missing rows\n",
    "#data_1 = data_1.dropna(subset = ['Age'])\n",
    "\n",
    "#imputing median\n",
    "# print(data_1.Age.median())\n",
    "# data_1.Age = data_1.Age.fillna(data_1.Age.median())\n",
    "\n",
    "#imputing mean\n",
    "# print(data_1.Age.mean())\n",
    "# data_1.Age = data_1.Age.fillna(data_1.Age.mean())\n",
    "\n",
    "#imputing mode\n",
    "print(data_1.Age.mode()[0])\n",
    "data_1.Age = data_1.Age.fillna(data_1.Age.mode()[0])\n",
    "data_1.Embarked = data_1.Embarked.fillna(data_1.Embarked.mode()[0])"
   ]
  },
  {
   "cell_type": "code",
   "execution_count": 5,
   "metadata": {},
   "outputs": [
    {
     "data": {
      "text/plain": [
       "Index(['PassengerId', 'Survived', 'Pclass', 'Sex', 'Age', 'SibSp', 'Parch',\n",
       "       'Fare', 'Embarked_C', 'Embarked_Q', 'Embarked_S'],\n",
       "      dtype='object')"
      ]
     },
     "execution_count": 5,
     "metadata": {},
     "output_type": "execute_result"
    }
   ],
   "source": [
    "data_1['Sex']=data_1['Sex'].astype('category')\n",
    "data_1['Sex']=data_1['Sex'].cat.codes\n",
    "\n",
    "#data_1['Embarked']=data_1['Embarked'].astype('category')\n",
    "#data_1['Embarked']=data_1['Embarked'].cat.codes\n",
    "\n",
    "data_1 = pd.get_dummies(data_1,columns=['Embarked'])\n",
    "\n",
    "data_1.columns"
   ]
  },
  {
   "cell_type": "code",
   "execution_count": 6,
   "metadata": {},
   "outputs": [
    {
     "name": "stdout",
     "output_type": "stream",
     "text": [
      "[[117  22]\n",
      " [ 23  61]]\n",
      "Accuracy: 0.7982062780269058\n",
      "Precision: 0.7349397590361446\n",
      "Recall: 0.7261904761904762\n"
     ]
    },
    {
     "name": "stderr",
     "output_type": "stream",
     "text": [
      "/home/mldev/.local/lib/python3.5/site-packages/sklearn/linear_model/logistic.py:757: ConvergenceWarning: lbfgs failed to converge. Increase the number of iterations.\n",
      "  \"of iterations.\", ConvergenceWarning)\n"
     ]
    }
   ],
   "source": [
    "# excluded PassengerId,Name,Ticket,Cabin\n",
    "# X=data_1[['Pclass','Sex','Age','SibSp','Parch','Fare','Embarked']]\n",
    "X=data_1[['Pclass','Sex','Age','SibSp','Parch','Fare','Embarked_C', 'Embarked_Q', 'Embarked_S']]\n",
    "y=data_1['Survived']\n",
    "\n",
    "# split X and y into training and testing sets\n",
    "from sklearn.model_selection import train_test_split\n",
    "X_train,X_test,y_train,y_test=train_test_split(X,y,test_size=0.25,random_state=0)\n",
    "# import the class\n",
    "\n",
    "from sklearn.linear_model import LogisticRegression\n",
    "\n",
    "# instantiate the model (using the default parameters)\n",
    "logreg = LogisticRegression(solver='lbfgs')\n",
    "# fit the model with data\n",
    "logreg.fit(X_train,y_train)\n",
    "\n",
    "y_pred=logreg.predict(X_test)\n",
    "\n",
    "#calculate matrix\n",
    "from sklearn import metrics\n",
    "cnf_matrix = metrics.confusion_matrix(y_test, y_pred)\n",
    "print(cnf_matrix)\n",
    "print(\"Accuracy:\",metrics.accuracy_score(y_test, y_pred))\n",
    "print(\"Precision:\",metrics.precision_score(y_test, y_pred))\n",
    "print(\"Recall:\",metrics.recall_score(y_test, y_pred))"
   ]
  },
  {
   "cell_type": "markdown",
   "metadata": {},
   "source": [
    "### Age missing rows removed\n",
    "[[85 18]\n",
    " [18 58]]\n",
    " \n",
    "Accuracy: 0.7988826815642458\n",
    "Precision: 0.7631578947368421\n",
    "Recall: 0.7631578947368421\n",
    "\n",
    "### Age Imputing median/mean\n",
    "\n",
    "[[116  23]\n",
    " [ 23  61]]\n",
    " \n",
    "Accuracy: 0.7937219730941704\n",
    "Precision: 0.7261904761904762\n",
    "Recall: 0.7261904761904762\n",
    "\n",
    "### Age imputing mode\n",
    "[[115  24]\n",
    " [ 20  64]]\n",
    " \n",
    "Accuracy: 0.8026905829596412\n",
    "Precision: 0.7272727272727273\n",
    "Recall: 0.7619047619047619\n",
    "\n",
    "## Resorting to mode for now\n",
    "\n",
    "\n",
    "### Embarked one hot encoded\n",
    "\n",
    "[[117  22]\n",
    " [ 23  61]]\n",
    " \n",
    "Accuracy: 0.7982062780269058\n",
    "Precision: 0.7349397590361446\n",
    "Recall: 0.7261904761904762"
   ]
  },
  {
   "cell_type": "code",
   "execution_count": 33,
   "metadata": {},
   "outputs": [],
   "source": [
    "test_data = pd.read_csv('test.csv')\n",
    "test_data.head(20)\n",
    "\n",
    "# Preparing test data for prediction\n",
    "test_data_t = test_data.drop(['Name','Ticket','Cabin'],axis=1)\n",
    "test_data_1 = test_data_t.copy()\n",
    "\n",
    "test_data_1.isna().sum()\n",
    "\n",
    "#imputing mode\n",
    "test_data_1.Age = test_data_1.Age.fillna(data_1.Age.mode()[0])\n",
    "test_data_1.Fare = test_data_1.Fare.fillna(data_1.Fare.mode()[0])\n",
    "test_data_1.Embarked = test_data_1.Embarked.fillna('S')\n",
    "\n",
    "test_data_1['Sex']=test_data_1['Sex'].astype('category')\n",
    "test_data_1['Sex']=test_data_1['Sex'].cat.codes\n",
    "test_data_1 = pd.get_dummies(test_data_1,columns=['Embarked'])\n",
    "\n",
    "test_X=test_data_1[['Pclass','Sex','Age','SibSp','Parch','Fare','Embarked_C', 'Embarked_Q', 'Embarked_S']]\n",
    "test_Y=test_data_1['PassengerId']\n",
    "\n",
    "predictions = logreg.predict(test_X)\n",
    "\n",
    "output = pd.DataFrame({ 'PassengerId' : test_Y, 'Survived': predictions })\n",
    "output.to_csv('submission.csv', index=False)\n"
   ]
  }
 ],
 "metadata": {
  "kernelspec": {
   "display_name": "Python 3",
   "language": "python",
   "name": "python3"
  },
  "language_info": {
   "codemirror_mode": {
    "name": "ipython",
    "version": 3
   },
   "file_extension": ".py",
   "mimetype": "text/x-python",
   "name": "python",
   "nbconvert_exporter": "python",
   "pygments_lexer": "ipython3",
   "version": "3.5.2"
  }
 },
 "nbformat": 4,
 "nbformat_minor": 2
}
